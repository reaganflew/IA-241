{
 "cells": [
  {
   "cell_type": "markdown",
   "metadata": {},
   "source": [
    "# Q1"
   ]
  },
  {
   "cell_type": "markdown",
   "metadata": {},
   "source": [
    "# job1"
   ]
  },
  {
   "cell_type": "markdown",
   "metadata": {},
   "source": [
    "Intelligence Analyst for BSI Supply Chain Solutions division \n",
    "[link](https://www.linkedin.com/jobs/search/?trk=bingjobs&keywords=intelligence%20analyst%20job&location=Intelligence,%20North%20Carolina&pageNum=0&position=2&currentJobId=1181023399) "
   ]
  },
  {
   "cell_type": "markdown",
   "metadata": {},
   "source": [
    "# job2"
   ]
  },
  {
   "cell_type": "markdown",
   "metadata": {},
   "source": [
    "Noblis Intelligence Analyst SME\n",
    "[link](https://www.linkedin.com/jobs/search/?trk=bingjobs&keywords=intelligence%20analyst%20job&location=Intelligence,%20North%20Carolina&pageNum=0&position=1&currentJobId=1168762073)"
   ]
  },
  {
   "cell_type": "code",
   "execution_count": 6,
   "metadata": {},
   "outputs": [],
   "source": [
    "import xlwt        \n",
    "\n",
    "from collections import Counter        \n",
    "\n",
    "from nltk.corpus import stopwords\n",
    "\n",
    "stop = set(stopwords.words('english'))\n",
    "\n",
    "  \n",
    "\n",
    "book = xlwt.Workbook() # create a new excel file\n",
    "\n",
    "sheet_test = book.add_sheet('word_count') # add a new sheet\n",
    "\n",
    "i = 0\n",
    "\n",
    "sheet_test.write(i,0,'word') # write the header of the first column\n",
    "\n",
    "sheet_test.write(i,1,'count') # write the header of the second column\n",
    "\n",
    "sheet_test.write(i,2,'ratio') # write the header of the third column\n",
    "\n",
    "    \n",
    "\n",
    "with open('job1.txt','r',encoding='utf-8', errors = 'ignore') as text_word: # define the location of your txt file\n",
    "\n",
    "     \n",
    "\n",
    "    # convert all the word into lower cases\n",
    "\n",
    "    # filter out stop words\n",
    "\n",
    "    word_list = [i for i in text_word.read().lower().split() if i not in stop]\n",
    "\n",
    "    word_total = word_list.__len__()\n",
    "\n",
    "     \n",
    "\n",
    "    count_result =  Counter(word_list)\n",
    "\n",
    "    for result in count_result.most_common(10):\n",
    "\n",
    "        i = i+1 \n",
    "\n",
    "        sheet_test.write(i,0,result[0])\n",
    "\n",
    "        sheet_test.write(i,1,result[1])\n",
    "\n",
    "        sheet_test.write(i,2,(result[1]/word_total))\n",
    "\n",
    "    \n",
    "\n",
    "book.save('job1.xls')# define the location of your excel file"
   ]
  },
  {
   "cell_type": "code",
   "execution_count": 11,
   "metadata": {},
   "outputs": [],
   "source": [
    "import xlwt        \n",
    "\n",
    "from collections import Counter        \n",
    "\n",
    "from nltk.corpus import stopwords\n",
    "\n",
    "stop = set(stopwords.words('english'))\n",
    "\n",
    "  \n",
    "\n",
    "book = xlwt.Workbook() # create a new excel file\n",
    "\n",
    "sheet_test = book.add_sheet('word_count') # add a new sheet\n",
    "\n",
    "i = 0\n",
    "\n",
    "sheet_test.write(i,0,'word') # write the header of the first column\n",
    "\n",
    "sheet_test.write(i,1,'count') # write the header of the second column\n",
    "\n",
    "sheet_test.write(i,2,'ratio') # write the header of the third column\n",
    "\n",
    "    \n",
    "\n",
    "with open('job2.txt','r',encoding='utf-8', errors = 'ignore') as text_word: # define the location of your txt file\n",
    "\n",
    "     \n",
    "\n",
    "    # convert all the word into lower cases\n",
    "\n",
    "    # filter out stop words\n",
    "\n",
    "    word_list = [i for i in text_word.read().lower().split() if i not in stop]\n",
    "\n",
    "    word_total = word_list.__len__()\n",
    "\n",
    "     \n",
    "\n",
    "    count_result =  Counter(word_list)\n",
    "\n",
    "    for result in count_result.most_common(10):\n",
    "\n",
    "        i = i+1 \n",
    "\n",
    "        sheet_test.write(i,0,result[0])\n",
    "\n",
    "        sheet_test.write(i,1,result[1])\n",
    "\n",
    "        sheet_test.write(i,2,(result[1]/word_total))\n",
    "\n",
    "    \n",
    "\n",
    "book.save('job2.xls')# define the location of your excel file"
   ]
  },
  {
   "cell_type": "markdown",
   "metadata": {},
   "source": [
    "# Q2"
   ]
  },
  {
   "cell_type": "markdown",
   "metadata": {},
   "source": [
    "<img src=\"Sheet 1.png\">"
   ]
  },
  {
   "cell_type": "markdown",
   "metadata": {},
   "source": [
    "<img src=\"Sheet 2.png\">"
   ]
  },
  {
   "cell_type": "markdown",
   "metadata": {},
   "source": [
    "# Q3"
   ]
  },
  {
   "cell_type": "code",
   "execution_count": 14,
   "metadata": {},
   "outputs": [
    {
     "name": "stdout",
     "output_type": "stream",
     "text": [
      "{'intelligence.', 'functions.', 'from', 'sense', 'essential', 'innovation?', 'through', 'global', 'client', 'excellence,', 'manage', 'chain', 'growth,', 'Retain', 'Solutions', 'providing', 'nearly', 'Direct', 'we', 'act', 'industrial,', 'awareness', 'needed', 'indicators', 'analyzing', 'Subject', 'accurate', 'boast', 'terrorism', 'governmental,', 'demographic', 'love', 'particular', 'present', 'confidentiality', 'join', 'complex', 'highest', 'activities,', 'Analyst', 'this', 'records,', 'Essential', 'developing', 'then', 'clients', 'investigations;', 'research,', 'If', 'collecting', 'reports', 'responsible', 'dynamic', 'cargo', 'Efficiently', 'compliance', 'cultural,', 'sources', 'matter', 'discern', 'Identify', 'This', 'data', 'BSI', 'synthesize', 'services', 'trade', 'division', 'patterns', 'understanding', 'security,', 'role', 'additional', '120', 'expertise,', 'analyze', 'heightened', 'solutions', 'as', 'security-related', 'commercial', 'navigate', 'emphasis', 'leader', 'Chain', 'serve', 'databases,', 'standards?', 'backup', 'emerging', 'Supply', 'trends,', 'obligations', 'Provide', 'yourself', 'information,', 'disruption', 'would', 'all', 'written', 'generating', 'behaviors,', 'Intelligence', 'extract', 'you.', 'into', 'hear', 'is', 'specific', 'will', 'industry', 'continuing', 'yes,', 'years', 'clients.', 'Further,', 'hold', 'analysis', 'information', 'data,', 'sources,', 'collection', 'supporting', 'research', 'involvement', 'supply', 'disseminated', 'position'}\n",
      "{'associated', 'mission?', 'spanning', 'concise', 'shifts', 'targeted', 'areas', 'Northern', 'identify', 'vision', 'work', 'valuable', 'Shift', 'limited', 'not', 'tactfully', 'staggered', 'bulk', 'executives', 'accept', 'sessions,', 'objectives,', '0800-1800', 'adept', 'between', 'correspondence,', 'deficiencies', 'reviews', 'broad', 'well-documented', 'delicate', 'briefings,', 'with', 'experience', 'work.', 'watchlisting', 'where', 'both', 'experienced', 'strategic', 'analyst', 'implement', 'findings', 'Some', 'develop', 'missions,', 'accomplishments.', 'guide', 'law', 'resources,', 'goals', 'its', 'opportunity', '2100-0700', 'negotiate', '0600-2200', 'events', 'effectively,', 'company', 'international', 'want', 'complete,', 'advise', 'validate', 'following):', 'positions', 'knowledge', 'logical,', 'nature;', 'preparing', 'may', 'management', 'affect', 'or', 'tables,', 'charts,', 'direction;', 'Communicate', 'programs', 'Guide', 'within', 'effectively', '8-hour', '4', 'identification', 'changes', 'order', 'key', 'milestones,', 'functions', 'involve', 'national', 'officials', 'program', 'team', 'while', 'making', 'proposals', '(may', 'design', 'strategy', 'study', 'engineering,', 'impacting', 'Virginia', 'Work', 'mission', 'organizations?', 'senior', 'organize,', 'which', 'structure,', 'require', 'and/or', 'impact', 'orally', 'formal', 'substantial', 'functions,', 'enterprise', 'executive', 'timing', 'relative', 'local,', 'methods', 'graphs', 'relationships', 'established', 'Program', 'clear,', 'state,', 'enforcement', 'shift', 'conclusions', 'Location:', 'Federal,', 'difficult', 'clearly', 'Exhibit', 'Overview:', 'exciting', '1200-2200,', 'worth', 'assessments,', 'intelligence?', 'determine', 'includes', 'systems,', 'extensive', 'approach', 'recommendations', 'community?', 'boundaries', 'functional', 'ability', 'sequence', 'great', 'Work:', 'inadequacies', 'days/week', 'at', 'presentations', 'procedures', 'studies', 'are', 'writing,', 'agencies', 'but', 'business', '0500-1500,', 'timeframe', 'evaluating', 'process', 'partner', 'interagency', 'span', '10-hour', 'informal', 'extremely', 'effect', 'Quickly', 'conduct', 'variety', 'throughout', 'comprehensive', 'recommendations,', 'Plan,', 'persuasively', 'support/meet', 'organizational', 'direct', 'policies,', 'issues', 'overall', 'Logistics', 'participate', 'include,', 'distributed'}\n"
     ]
    }
   ],
   "source": [
    "with open('job1.txt','r',encoding='utf-8', errors = 'ignore') as job1:\n",
    "    with open('job2.txt','r',encoding='utf-8', errors = 'ignore') as job2:\n",
    "        job1_str=job1.read()\n",
    "        job2_str=job2.read()\n",
    "        \n",
    "        job1_set=set(job1_str.split())\n",
    "        job2_set=set(job2_str.split())\n",
    "        \n",
    "        print(job1_set.difference(job2_set))\n",
    "        print(job2_set.difference(job1_set))"
   ]
  },
  {
   "cell_type": "markdown",
   "metadata": {},
   "source": [
    "# Q4"
   ]
  },
  {
   "cell_type": "code",
   "execution_count": 19,
   "metadata": {},
   "outputs": [
    {
     "name": "stdout",
     "output_type": "stream",
     "text": [
      "2\n"
     ]
    }
   ],
   "source": [
    "\n",
    "from fuzzywuzzy import fuzz\n",
    "with open('job1.txt','r',encoding='utf-8', errors = 'ignore') as job1:\n",
    "    with open('job2.txt','r',encoding='utf-8', errors = 'ignore') as job2:\n",
    "        job1_str=job1.read()\n",
    "        job2_str=job2.read()\n",
    "        print(fuzz.token_sort_ratio(job1_str,job2_str))"
   ]
  },
  {
   "cell_type": "code",
   "execution_count": null,
   "metadata": {},
   "outputs": [],
   "source": []
  }
 ],
 "metadata": {
  "kernelspec": {
   "display_name": "Python 3",
   "language": "python",
   "name": "python3"
  },
  "language_info": {
   "codemirror_mode": {
    "name": "ipython",
    "version": 3
   },
   "file_extension": ".py",
   "mimetype": "text/x-python",
   "name": "python",
   "nbconvert_exporter": "python",
   "pygments_lexer": "ipython3",
   "version": "3.6.5"
  }
 },
 "nbformat": 4,
 "nbformat_minor": 2
}
