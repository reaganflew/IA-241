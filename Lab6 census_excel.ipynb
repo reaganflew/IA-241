{
 "cells": [
  {
   "cell_type": "markdown",
   "metadata": {},
   "source": [
    "# 1-3"
   ]
  },
  {
   "cell_type": "code",
   "execution_count": 7,
   "metadata": {},
   "outputs": [],
   "source": [
    "from urllib import request\n",
    "import json\n",
    "from pprint import pprint\n",
    "import xlwt"
   ]
  },
  {
   "cell_type": "code",
   "execution_count": 8,
   "metadata": {},
   "outputs": [],
   "source": [
    "census_api_key = '6db1e714f85daba6d75ac2205a450601c15a527f' "
   ]
  },
  {
   "cell_type": "code",
   "execution_count": 9,
   "metadata": {},
   "outputs": [],
   "source": [
    "url_str = 'https://api.census.gov/data/2016/acs/acs5?get=B01001_001E,B01001_002E,NAME&for=county:*&in=state:51&key='+census_api_key"
   ]
  },
  {
   "cell_type": "code",
   "execution_count": 10,
   "metadata": {},
   "outputs": [
    {
     "name": "stdout",
     "output_type": "stream",
     "text": [
      "https://api.census.gov/data/2016/acs/acs5?get=B01001_001E,B01001_002E,NAME&for=county:*&in=state:51&key=6db1e714f85daba6d75ac2205a450601c15a527f\n"
     ]
    }
   ],
   "source": [
    "print(url_str)"
   ]
  },
  {
   "cell_type": "code",
   "execution_count": 11,
   "metadata": {},
   "outputs": [],
   "source": [
    "response = request.urlopen(url_str) # read the response into computer\n",
    "html_str = response.read().decode(\"utf-8\") # convert the response into string"
   ]
  },
  {
   "cell_type": "code",
   "execution_count": 12,
   "metadata": {},
   "outputs": [],
   "source": [
    "book=xlwt.Workbook()\n",
    "sheet=book.add_sheet('va_pop')\n",
    "i=0\n",
    "if html_str:\n",
    "    json_data=json.loads(html_str)\n",
    "    for record in json_data:\n",
    "        total_pop, male_pop, name, state, count_num=record\n",
    "        sheet.write(i,0,total_pop)\n",
    "        sheet.write(i,1,male_pop)\n",
    "        i +=1\n",
    "book.save('census.xls')"
   ]
  },
  {
   "cell_type": "markdown",
   "metadata": {},
   "source": [
    "# 4"
   ]
  },
  {
   "cell_type": "code",
   "execution_count": 18,
   "metadata": {},
   "outputs": [
    {
     "name": "stdout",
     "output_type": "stream",
     "text": [
      "B01001_001E B01001_002E\n",
      "33060 16125\n",
      "104287 49946\n",
      "15919 7788\n",
      "12793 6642\n",
      "31999 15346\n",
      "15314 7424\n",
      "226092 112644\n",
      "74330 37572\n",
      "4558 2465\n"
     ]
    }
   ],
   "source": [
    "import xlrd\n",
    "book=xlrd.open_workbook('census.xls')\n",
    "sheet=book.sheet_by_name('va_pop')\n",
    "for i in range(10):\n",
    "    row=sheet.row_values(i)\n",
    "    total_pop,male_pop=row\n",
    "    print(total_pop,male_pop)"
   ]
  },
  {
   "cell_type": "markdown",
   "metadata": {},
   "source": [
    "# 5"
   ]
  },
  {
   "cell_type": "code",
   "execution_count": 37,
   "metadata": {},
   "outputs": [],
   "source": [
    "from xlutils.copy import copy\n",
    "read_book=xlrd.open_workbook('census (5).xls')\n",
    "write_book=copy(read_book)\n",
    "\n",
    "write_sheet=write_book.get_sheet(0)\n",
    "\n",
    "for i in range(10):\n",
    "    if i==0:\n",
    "        write_sheet.write(i,2,'ratio')\n",
    "    else:\n",
    "        write_sheet.write(i,2, 'male_pop/total_pop')\n",
    "        \n",
    "write_book.save('census (5).xls')"
   ]
  },
  {
   "cell_type": "code",
   "execution_count": 40,
   "metadata": {},
   "outputs": [],
   "source": [
    "read_book=xlrd.open_workbook('census (5).xls')\n",
    "sheet=read_book.sheet_by_name('va_pop')\n",
    "num_rows=sheet.nrows\n",
    "write_book=copy(read_book)\n",
    "\n",
    "write_sheet=write_book.get_sheet(0)\n",
    "\n",
    "for i in range(num_rows):\n",
    "    row=sheet.row_values(i)\n",
    "    B01001_001E, B01001_002E, ratio=row\n",
    "\n",
    "    if i==0:\n",
    "        write_sheet.write(i,2,'ratio')\n",
    "    else:\n",
    "        write_sheet.write(i,2, int(B01001_002E)/int(B01001_001E))\n",
    "        \n",
    "write_book.save('census (5).xls')"
   ]
  },
  {
   "cell_type": "markdown",
   "metadata": {},
   "source": [
    "# 6"
   ]
  },
  {
   "cell_type": "code",
   "execution_count": 43,
   "metadata": {},
   "outputs": [
    {
     "name": "stdout",
     "output_type": "stream",
     "text": [
      "B01001_001E B01001_002E ratio\n",
      "33060 16125 0.48774954627949185\n",
      "104287 49946 0.4789283419793455\n",
      "15919 7788 0.48922671022049125\n",
      "12793 6642 0.5191901821308528\n",
      "31999 15346 0.4795774867964624\n",
      "15314 7424 0.48478516390231163\n",
      "226092 112644 0.4982219627408312\n",
      "74330 37572 0.5054755818646576\n",
      "4558 2465 0.5408073716542343\n"
     ]
    }
   ],
   "source": [
    "import xlrd\n",
    "book=xlrd.open_workbook('census (5).xls')\n",
    "sheet=book.sheet_by_name('va_pop')\n",
    "for i in range(10):\n",
    "    row=sheet.row_values(i)\n",
    "    total_pop,male_pop,ratio=row\n",
    "    print(total_pop,male_pop,ratio)"
   ]
  },
  {
   "cell_type": "code",
   "execution_count": null,
   "metadata": {},
   "outputs": [],
   "source": []
  }
 ],
 "metadata": {
  "kernelspec": {
   "display_name": "Python 3",
   "language": "python",
   "name": "python3"
  },
  "language_info": {
   "codemirror_mode": {
    "name": "ipython",
    "version": 3
   },
   "file_extension": ".py",
   "mimetype": "text/x-python",
   "name": "python",
   "nbconvert_exporter": "python",
   "pygments_lexer": "ipython3",
   "version": "3.6.5"
  }
 },
 "nbformat": 4,
 "nbformat_minor": 2
}
