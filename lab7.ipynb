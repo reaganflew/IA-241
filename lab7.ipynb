{
 "cells": [
  {
   "cell_type": "markdown",
   "metadata": {},
   "source": [
    "# Q1"
   ]
  },
  {
   "cell_type": "markdown",
   "metadata": {},
   "source": [
    "Company: Booz Allen Hamilton\n",
    "Description: Open Source Intelligence Analyst\n",
    "[job website](https://www.google.com/search?source=hp&ei=k5uKXJ6GCses5wL2uIb4CQ&q=intelligence+anlayst+job&oq=intelligence+anlayst+job&gs_l=psy-ab.3..0i13l10.1526.5701..5975...1.0..0.168.1378.24j1......0....1..gws-wiz.....0..0i131j0j0i10j0i22i10i30j0i22i30j0i13i30.BvbVxKbdTzg&ibp=htl;jobs&sa=X&ved=2ahUKEwjfu4Tmn4LhAhUSy1kKHQ77BmEQiYsCKAF6BAgBECg#fpstate=tldetail&htidocid=8wDGwcsYOEtSMdmtAAAAAA%3D%3D&htivrt=jobs)"
   ]
  },
  {
   "cell_type": "code",
   "execution_count": 1,
   "metadata": {},
   "outputs": [
    {
     "name": "stdout",
     "output_type": "stream",
     "text": [
      "Job Description\n",
      "Job Number: R0046441\n",
      "\n",
      "Open Source Intelligence Analyst\n",
      "\n",
      "Key Role:\n",
      "\n",
      "Support an intelligence community (IC) client as an open source intelligence (OSINT) analyst. Support the analysis of open source intelligence under limited supervision. Consult on how to leverage OSINT data and information, use specialized OSINT tools and services, and consult on the development of OSINT products. Support the development of new OSINT targeting and exploitation techniques and apply expertise to analyzing the development of OSINT policy and tradecraft. This position is located in Charlottesville, VA.\n",
      "\n",
      "Basic Qualifications:\n",
      "-Experience as an OSINT analyst supporting IC or DoD missions\n",
      "\n",
      "-Knowledge of IC OSINT tools and techniques\n",
      "\n",
      "-Ability to discover documents and synthesize and report information from publicly available sources and private or government open source materials within established security protocols quickly and efficiently\n",
      "\n",
      "-Ability to perform specific search projects with little guidance both in library and online\n",
      "\n",
      "-Ability to build an independent program of discovery and reporting to support assigned missions\n",
      "\n",
      "-TS/SCI clearance\n",
      "\n",
      "-BA or BS degree\n",
      "\n",
      "Additional Qualifications:\n",
      "\n",
      "-Experience with using social media tools for business and government development and research\n",
      "\n",
      "-Experience with social media efforts, tools, techniques, social media marketing, social media strategy development, and associated technologies\n",
      "\n",
      "-Completion of OSINT and social media exploitation tool training from IC or DoD providers\n",
      "\n",
      "Clearance:\n",
      "Applicants selected will be subject to a security investigation and may need to meet eligibility requirements for access to classified information; TS/SCI clearance is required.\n",
      "\n",
      "We’re an EOE that empowers our people—no matter their race, color, religion, sex, gender identity, sexual orientation, national origin, disability, or veteran status—to fearlessly drive change.\n",
      "\n",
      "DMI\n"
     ]
    }
   ],
   "source": [
    "job = open('job.txt','r')\n",
    "\n",
    "print(job.read())\n",
    "job.close()"
   ]
  },
  {
   "cell_type": "markdown",
   "metadata": {},
   "source": [
    "# Q2"
   ]
  },
  {
   "cell_type": "code",
   "execution_count": 4,
   "metadata": {},
   "outputs": [
    {
     "name": "stdout",
     "output_type": "stream",
     "text": [
      "and 18\n",
      "to 9\n",
      "OSINT 8\n",
      "of 7\n",
      "an 5\n",
      "or 5\n",
      "social 5\n",
      "media 5\n",
      "the 4\n",
      "development 4\n",
      "Support 3\n",
      "intelligence 3\n",
      "open 3\n",
      "source 3\n",
      "tools 3\n",
      "-Experience 3\n",
      "IC 3\n",
      "-Ability 3\n",
      "with 3\n",
      "Job 2\n"
     ]
    }
   ],
   "source": [
    "from collections import Counter\n",
    "with open ('job.txt','r') as job:\n",
    "    job_list=job.read().split()\n",
    "    \n",
    "    count_result= Counter(job_list)\n",
    "    \n",
    "    for word, count in count_result.most_common(20):\n",
    "        print(word,count)"
   ]
  },
  {
   "cell_type": "markdown",
   "metadata": {},
   "source": [
    "# Q3"
   ]
  },
  {
   "cell_type": "code",
   "execution_count": 7,
   "metadata": {},
   "outputs": [],
   "source": [
    "import xlwt\n",
    "\n",
    "from collections import Counter\n",
    "book=xlwt.Workbook()\n",
    "sheet=book.add_sheet('word_count')\n",
    "i=0\n",
    "sheet.write(i,0,'word')\n",
    "sheet.write(i,1,'count')\n",
    "with open ('job.txt','r') as job:\n",
    "    job_list=job.read().split()\n",
    "    count_result=Counter(job_list)\n",
    "    for word, count in count_result.most_common(20):\n",
    "        if i>0:\n",
    "            sheet.write(i,0,word)\n",
    "            sheet.write(i,1,count)\n",
    "        i=i+1\n",
    "book.save('job_word_count.xls')"
   ]
  },
  {
   "cell_type": "markdown",
   "metadata": {},
   "source": [
    "# Q4"
   ]
  },
  {
   "cell_type": "code",
   "execution_count": null,
   "metadata": {},
   "outputs": [],
   "source": [
    "import xlrd\n",
    "book=xlrd.open_workbook('job_word_count')\n",
    "sheet=book.sheet_by_name('word_count')\n",
    "for i in range\n"
   ]
  },
  {
   "cell_type": "markdown",
   "metadata": {},
   "source": [
    "# Q5"
   ]
  },
  {
   "cell_type": "code",
   "execution_count": null,
   "metadata": {},
   "outputs": [],
   "source": []
  }
 ],
 "metadata": {
  "kernelspec": {
   "display_name": "Python 3",
   "language": "python",
   "name": "python3"
  },
  "language_info": {
   "codemirror_mode": {
    "name": "ipython",
    "version": 3
   },
   "file_extension": ".py",
   "mimetype": "text/x-python",
   "name": "python",
   "nbconvert_exporter": "python",
   "pygments_lexer": "ipython3",
   "version": "3.6.5"
  }
 },
 "nbformat": 4,
 "nbformat_minor": 2
}
