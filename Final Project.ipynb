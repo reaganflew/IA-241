{
 "cells": [
  {
   "cell_type": "markdown",
   "metadata": {},
   "source": [
    "# Final 241"
   ]
  },
  {
   "cell_type": "markdown",
   "metadata": {},
   "source": [
    "## Introduction\n",
    "\n",
    "Reagan and Belinda hope to use this project to learn more information about jobs listed within their potential career fields as well as learn how to somehow simplify the search for themselves and others."
   ]
  },
  {
   "cell_type": "markdown",
   "metadata": {},
   "source": [
    "Data used in this project: <a href='new.xlsx'>data</a>"
   ]
  },
  {
   "cell_type": "markdown",
   "metadata": {},
   "source": [
    "# 2.1 Common Job Titles"
   ]
  },
  {
   "cell_type": "code",
   "execution_count": 105,
   "metadata": {},
   "outputs": [
    {
     "data": {
      "text/html": [
       "<div>\n",
       "<style scoped>\n",
       "    .dataframe tbody tr th:only-of-type {\n",
       "        vertical-align: middle;\n",
       "    }\n",
       "\n",
       "    .dataframe tbody tr th {\n",
       "        vertical-align: top;\n",
       "    }\n",
       "\n",
       "    .dataframe thead th {\n",
       "        text-align: right;\n",
       "    }\n",
       "</style>\n",
       "<table border=\"1\" class=\"dataframe\">\n",
       "  <thead>\n",
       "    <tr style=\"text-align: right;\">\n",
       "      <th></th>\n",
       "      <th>job title</th>\n",
       "      <th>company name</th>\n",
       "      <th>posted date</th>\n",
       "      <th>job location</th>\n",
       "      <th>minimal salary</th>\n",
       "      <th>job duties</th>\n",
       "      <th>required skills</th>\n",
       "      <th>min years exp</th>\n",
       "      <th>min education</th>\n",
       "      <th>url</th>\n",
       "    </tr>\n",
       "  </thead>\n",
       "  <tbody>\n",
       "    <tr>\n",
       "      <th>0</th>\n",
       "      <td>Strategic CounterTerrorism Analyst</td>\n",
       "      <td>BAE Systems</td>\n",
       "      <td>2019-02-06</td>\n",
       "      <td>Washington DC</td>\n",
       "      <td>90000</td>\n",
       "      <td>Research and produce all-source counterterrori...</td>\n",
       "      <td>The candidate must have a working knowledge of...</td>\n",
       "      <td>4</td>\n",
       "      <td>Bachelors Degree</td>\n",
       "      <td>https://www.indeed.com/jobs?q=counterterrorism...</td>\n",
       "    </tr>\n",
       "    <tr>\n",
       "      <th>1</th>\n",
       "      <td>Counterterrorism Intelligence Analyst</td>\n",
       "      <td>IntelCenter</td>\n",
       "      <td>2019-03-21</td>\n",
       "      <td>Washington DC</td>\n",
       "      <td>45000</td>\n",
       "      <td>providing current intelligence counterterrori...</td>\n",
       "      <td>Experience with i2's Analyst Notebook, CartoDB...</td>\n",
       "      <td>2</td>\n",
       "      <td>Bachelors degree</td>\n",
       "      <td>https://www.indeed.com/jobs?q=intelligence%20a...</td>\n",
       "    </tr>\n",
       "    <tr>\n",
       "      <th>2</th>\n",
       "      <td>Open Source Intelligence Analyst</td>\n",
       "      <td>Cobwebs America, Inc</td>\n",
       "      <td>2019-03-21</td>\n",
       "      <td>Manhattan, NY</td>\n",
       "      <td>80000</td>\n",
       "      <td>Prepare and present product demonstrations, ad...</td>\n",
       "      <td>Proven track record working as OSINT Analyst f...</td>\n",
       "      <td>3</td>\n",
       "      <td>Bachelor’s degree in Computer Science or crimi...</td>\n",
       "      <td>https://www.indeed.com/jobs?q=intelligence%20a...</td>\n",
       "    </tr>\n",
       "    <tr>\n",
       "      <th>3</th>\n",
       "      <td>Cyber Security Analyst/Specialist</td>\n",
       "      <td>Atlantic Systems Group</td>\n",
       "      <td>2019-03-29</td>\n",
       "      <td>Suffolk VA</td>\n",
       "      <td>75000</td>\n",
       "      <td>cybersecurity expertise in the area of cyberse...</td>\n",
       "      <td>A/CS analysis support in IA/security controls ...</td>\n",
       "      <td>5</td>\n",
       "      <td>Not specified</td>\n",
       "      <td>https://www.indeed.com/jobs?q=intelligence%20a...</td>\n",
       "    </tr>\n",
       "    <tr>\n",
       "      <th>4</th>\n",
       "      <td>Intelligence Analyst Watch Team Member</td>\n",
       "      <td>Dynamic Planning and Response</td>\n",
       "      <td>2019-04-01</td>\n",
       "      <td>Arlington, VA</td>\n",
       "      <td>76000</td>\n",
       "      <td>Contractor for the National Infrastructure Coo...</td>\n",
       "      <td>\\nPrevious Military, State or Federal level 24...</td>\n",
       "      <td>5</td>\n",
       "      <td>Bachelors Degree</td>\n",
       "      <td>https://www.indeed.com/jobs?q=intelligence%20a...</td>\n",
       "    </tr>\n",
       "    <tr>\n",
       "      <th>5</th>\n",
       "      <td>Senior Cyber Intelligence Analyst</td>\n",
       "      <td>SAIC</td>\n",
       "      <td>2019-04-04</td>\n",
       "      <td>Washington DC</td>\n",
       "      <td>100000</td>\n",
       "      <td>Support 24x7 CYSOC activities, as deemed appro...</td>\n",
       "      <td>Experience producing all-source cyber intellig...</td>\n",
       "      <td>14</td>\n",
       "      <td>Bachelors Degree</td>\n",
       "      <td>https://www.indeed.com/q-intelligence-analyst-...</td>\n",
       "    </tr>\n",
       "    <tr>\n",
       "      <th>6</th>\n",
       "      <td>Business Intelligence Analyst</td>\n",
       "      <td>Arteza</td>\n",
       "      <td>2019-04-06</td>\n",
       "      <td>North Miami Beach, FL</td>\n",
       "      <td>75000</td>\n",
       "      <td>Review and validate customer data, Create or d...</td>\n",
       "      <td>Experience with BI tools such as Domo or Table...</td>\n",
       "      <td>3</td>\n",
       "      <td>Bachelor’s Degree in Computer Science, Busines...</td>\n",
       "      <td>https://www.indeed.com/jobs?q=intelligence%20a...</td>\n",
       "    </tr>\n",
       "    <tr>\n",
       "      <th>7</th>\n",
       "      <td>Intelligence Analyst</td>\n",
       "      <td>CENTRA Technology</td>\n",
       "      <td>2019-04-08</td>\n",
       "      <td>Arlington,VA</td>\n",
       "      <td>90000</td>\n",
       "      <td>Analysts will be responsible for processing la...</td>\n",
       "      <td>In-depth and demonstrated knowledge of one or ...</td>\n",
       "      <td>2</td>\n",
       "      <td>Bachelors Degree</td>\n",
       "      <td>https://www.indeed.com/jobs?q=counterterrorism...</td>\n",
       "    </tr>\n",
       "    <tr>\n",
       "      <th>8</th>\n",
       "      <td>Business Intelligence Consultant</td>\n",
       "      <td>Qualifacts</td>\n",
       "      <td>2019-04-11</td>\n",
       "      <td>Nashville, TN</td>\n",
       "      <td>104000</td>\n",
       "      <td>\\nLead and collaborate with client end users a...</td>\n",
       "      <td>Experience working with large data sets; exper...</td>\n",
       "      <td>5</td>\n",
       "      <td>Bachelor Degree</td>\n",
       "      <td>https://www.indeed.com/q-intelligence-analyst-...</td>\n",
       "    </tr>\n",
       "    <tr>\n",
       "      <th>9</th>\n",
       "      <td>All Source Intelligence Analyst</td>\n",
       "      <td>CyOne Inc</td>\n",
       "      <td>2019-04-11</td>\n",
       "      <td>Aberdeen, MD</td>\n",
       "      <td>65000</td>\n",
       "      <td>Provide analytical/operational insight and exp...</td>\n",
       "      <td>Knowledge of WFXs, CTCs, software enhancement ...</td>\n",
       "      <td>8</td>\n",
       "      <td>Bachelors Degee</td>\n",
       "      <td>https://www.indeed.com/q-intelligence-analyst-...</td>\n",
       "    </tr>\n",
       "    <tr>\n",
       "      <th>10</th>\n",
       "      <td>Business Intelligence Analyst</td>\n",
       "      <td>Omnitrans</td>\n",
       "      <td>2019-04-11</td>\n",
       "      <td>San Bernardino, CA</td>\n",
       "      <td>66972</td>\n",
       "      <td>Conduct cost/benefit analysis, utilize modeli...</td>\n",
       "      <td>knowledge of Business communications technique...</td>\n",
       "      <td>5</td>\n",
       "      <td>Bachelors Degree</td>\n",
       "      <td>https://www.indeed.com/jobs?q=intelligence%20a...</td>\n",
       "    </tr>\n",
       "    <tr>\n",
       "      <th>11</th>\n",
       "      <td>Criminal Intelligence Analyst</td>\n",
       "      <td>Sherburne County Sherriff</td>\n",
       "      <td>2019-04-13</td>\n",
       "      <td>Sherburne Co, MN</td>\n",
       "      <td>60000</td>\n",
       "      <td>Analyze statistical data, prepare statistical ...</td>\n",
       "      <td>Skill in general computer functions and PC sof...</td>\n",
       "      <td>3</td>\n",
       "      <td>Bachelor's degree in criminal justice</td>\n",
       "      <td>https://www.indeed.com/jobs?q=intelligence%20a...</td>\n",
       "    </tr>\n",
       "    <tr>\n",
       "      <th>12</th>\n",
       "      <td>Cyber Security Analyst lll-Splunk</td>\n",
       "      <td>Fannie Mae</td>\n",
       "      <td>2019-04-14</td>\n",
       "      <td>Reston,VA</td>\n",
       "      <td>115000</td>\n",
       "      <td>Conduct platform or operating system vulnerabi...</td>\n",
       "      <td>Expert in Splunk rule creation and monitoring,...</td>\n",
       "      <td>4</td>\n",
       "      <td>Bachelors Degree</td>\n",
       "      <td>https://www.indeed.com/q-intelligence-analyst-...</td>\n",
       "    </tr>\n",
       "    <tr>\n",
       "      <th>13</th>\n",
       "      <td>Naval Intelligence Specialist</td>\n",
       "      <td>US Navy</td>\n",
       "      <td>2019-04-16</td>\n",
       "      <td>Honolulu, HI</td>\n",
       "      <td>91242</td>\n",
       "      <td>Conduct SIGINT, maintain subject matter expert...</td>\n",
       "      <td>Experience onducting SIGINT, Managing command ...</td>\n",
       "      <td>1</td>\n",
       "      <td>Not specified</td>\n",
       "      <td>https://www.indeed.com/jobs?q=intelligence%20a...</td>\n",
       "    </tr>\n",
       "    <tr>\n",
       "      <th>14</th>\n",
       "      <td>All Source Intelligence Analyst</td>\n",
       "      <td>Veteran Solutions Inc.</td>\n",
       "      <td>2019-04-17</td>\n",
       "      <td>Washington DC</td>\n",
       "      <td>75000</td>\n",
       "      <td>Maintain databases, Conduct special research s...</td>\n",
       "      <td>Strong research skills, Strong verbal and writ...</td>\n",
       "      <td>5</td>\n",
       "      <td>Not specified</td>\n",
       "      <td>https://www.indeed.com/jobs?q=intelligence%20a...</td>\n",
       "    </tr>\n",
       "    <tr>\n",
       "      <th>15</th>\n",
       "      <td>Intelligence Analyst</td>\n",
       "      <td>US Inspection Service</td>\n",
       "      <td>2019-04-17</td>\n",
       "      <td>Washington DC</td>\n",
       "      <td>70173</td>\n",
       "      <td>development of quantitative and qualitative st...</td>\n",
       "      <td>Knowledge of information technology, Ability t...</td>\n",
       "      <td>3</td>\n",
       "      <td>Not specified</td>\n",
       "      <td>https://www.indeed.com/jobs?q=intelligence%20a...</td>\n",
       "    </tr>\n",
       "    <tr>\n",
       "      <th>16</th>\n",
       "      <td>Intelligence Analyst</td>\n",
       "      <td>City of Charlottesville</td>\n",
       "      <td>2019-04-17</td>\n",
       "      <td>Charlottesville, VA</td>\n",
       "      <td>45302</td>\n",
       "      <td>Independently determines necessary principal a...</td>\n",
       "      <td>Knowledge of various sources/methods of obtain...</td>\n",
       "      <td>4</td>\n",
       "      <td>Bachelor Degree</td>\n",
       "      <td>https://www.indeed.com/jobs?q=intelligence%20a...</td>\n",
       "    </tr>\n",
       "    <tr>\n",
       "      <th>17</th>\n",
       "      <td>Intelligence Analyst</td>\n",
       "      <td>City of St. Petersburg</td>\n",
       "      <td>2019-04-19</td>\n",
       "      <td>St Petersburg, FL</td>\n",
       "      <td>44952</td>\n",
       "      <td>Analyze criminal patterns, forecast for law en...</td>\n",
       "      <td>Driver License, oral and written reports, data...</td>\n",
       "      <td>2</td>\n",
       "      <td>Bachelors Degree in Criminology</td>\n",
       "      <td>https://www.indeed.com/jobs?q=intelligence%20a...</td>\n",
       "    </tr>\n",
       "    <tr>\n",
       "      <th>18</th>\n",
       "      <td>Political Analyst</td>\n",
       "      <td>Central Intelligence Agency</td>\n",
       "      <td>2019-08-06</td>\n",
       "      <td>Washington D.C</td>\n",
       "      <td>54308</td>\n",
       "      <td>you will support policymakers by producing and...</td>\n",
       "      <td>Deep regional or functional expertise includin...</td>\n",
       "      <td>3</td>\n",
       "      <td>Bachelor's Degree</td>\n",
       "      <td>https://www.indeed.com/jobs?q=intelligence%20a...</td>\n",
       "    </tr>\n",
       "    <tr>\n",
       "      <th>19</th>\n",
       "      <td>Intelligence Analyst</td>\n",
       "      <td>Decipher</td>\n",
       "      <td>2019-11-19</td>\n",
       "      <td>St Louis, MO</td>\n",
       "      <td>50000</td>\n",
       "      <td>Serve as CI analyst; Brief Morning Meeting Dai...</td>\n",
       "      <td>3-5 years of professional experience with a ba...</td>\n",
       "      <td>3</td>\n",
       "      <td>Bachelors Degree</td>\n",
       "      <td>https://www.indeed.com/jobs?q=intelligence%20a...</td>\n",
       "    </tr>\n",
       "  </tbody>\n",
       "</table>\n",
       "</div>"
      ],
      "text/plain": [
       "                                 job title                   company name  \\\n",
       "0       Strategic CounterTerrorism Analyst                    BAE Systems   \n",
       "1    Counterterrorism Intelligence Analyst                    IntelCenter   \n",
       "2         Open Source Intelligence Analyst           Cobwebs America, Inc   \n",
       "3        Cyber Security Analyst/Specialist         Atlantic Systems Group   \n",
       "4   Intelligence Analyst Watch Team Member  Dynamic Planning and Response   \n",
       "5        Senior Cyber Intelligence Analyst                           SAIC   \n",
       "6            Business Intelligence Analyst                         Arteza   \n",
       "7                     Intelligence Analyst              CENTRA Technology   \n",
       "8         Business Intelligence Consultant                     Qualifacts   \n",
       "9          All Source Intelligence Analyst                      CyOne Inc   \n",
       "10           Business Intelligence Analyst                      Omnitrans   \n",
       "11           Criminal Intelligence Analyst      Sherburne County Sherriff   \n",
       "12       Cyber Security Analyst lll-Splunk                     Fannie Mae   \n",
       "13          Naval Intelligence Specialist                         US Navy   \n",
       "14         All Source Intelligence Analyst         Veteran Solutions Inc.   \n",
       "15                   Intelligence Analyst           US Inspection Service   \n",
       "16                    Intelligence Analyst        City of Charlottesville   \n",
       "17                    Intelligence Analyst        City of St. Petersburg    \n",
       "18                       Political Analyst    Central Intelligence Agency   \n",
       "19                    Intelligence Analyst                       Decipher   \n",
       "\n",
       "   posted date           job location  minimal salary  \\\n",
       "0   2019-02-06          Washington DC           90000   \n",
       "1   2019-03-21          Washington DC           45000   \n",
       "2   2019-03-21          Manhattan, NY           80000   \n",
       "3   2019-03-29             Suffolk VA           75000   \n",
       "4   2019-04-01          Arlington, VA           76000   \n",
       "5   2019-04-04          Washington DC          100000   \n",
       "6   2019-04-06  North Miami Beach, FL           75000   \n",
       "7   2019-04-08           Arlington,VA           90000   \n",
       "8   2019-04-11          Nashville, TN          104000   \n",
       "9   2019-04-11           Aberdeen, MD           65000   \n",
       "10  2019-04-11    San Bernardino, CA            66972   \n",
       "11  2019-04-13       Sherburne Co, MN           60000   \n",
       "12  2019-04-14              Reston,VA          115000   \n",
       "13  2019-04-16           Honolulu, HI           91242   \n",
       "14  2019-04-17          Washington DC           75000   \n",
       "15  2019-04-17          Washington DC           70173   \n",
       "16  2019-04-17    Charlottesville, VA           45302   \n",
       "17  2019-04-19      St Petersburg, FL           44952   \n",
       "18  2019-08-06         Washington D.C           54308   \n",
       "19  2019-11-19           St Louis, MO           50000   \n",
       "\n",
       "                                           job duties  \\\n",
       "0   Research and produce all-source counterterrori...   \n",
       "1    providing current intelligence counterterrori...   \n",
       "2   Prepare and present product demonstrations, ad...   \n",
       "3   cybersecurity expertise in the area of cyberse...   \n",
       "4   Contractor for the National Infrastructure Coo...   \n",
       "5   Support 24x7 CYSOC activities, as deemed appro...   \n",
       "6   Review and validate customer data, Create or d...   \n",
       "7   Analysts will be responsible for processing la...   \n",
       "8   \\nLead and collaborate with client end users a...   \n",
       "9   Provide analytical/operational insight and exp...   \n",
       "10   Conduct cost/benefit analysis, utilize modeli...   \n",
       "11  Analyze statistical data, prepare statistical ...   \n",
       "12  Conduct platform or operating system vulnerabi...   \n",
       "13  Conduct SIGINT, maintain subject matter expert...   \n",
       "14  Maintain databases, Conduct special research s...   \n",
       "15  development of quantitative and qualitative st...   \n",
       "16  Independently determines necessary principal a...   \n",
       "17  Analyze criminal patterns, forecast for law en...   \n",
       "18  you will support policymakers by producing and...   \n",
       "19  Serve as CI analyst; Brief Morning Meeting Dai...   \n",
       "\n",
       "                                      required skills  min years exp  \\\n",
       "0   The candidate must have a working knowledge of...              4   \n",
       "1   Experience with i2's Analyst Notebook, CartoDB...              2   \n",
       "2   Proven track record working as OSINT Analyst f...              3   \n",
       "3   A/CS analysis support in IA/security controls ...              5   \n",
       "4   \\nPrevious Military, State or Federal level 24...              5   \n",
       "5   Experience producing all-source cyber intellig...             14   \n",
       "6   Experience with BI tools such as Domo or Table...              3   \n",
       "7   In-depth and demonstrated knowledge of one or ...              2   \n",
       "8   Experience working with large data sets; exper...              5   \n",
       "9   Knowledge of WFXs, CTCs, software enhancement ...              8   \n",
       "10  knowledge of Business communications technique...              5   \n",
       "11  Skill in general computer functions and PC sof...              3   \n",
       "12  Expert in Splunk rule creation and monitoring,...              4   \n",
       "13  Experience onducting SIGINT, Managing command ...              1   \n",
       "14  Strong research skills, Strong verbal and writ...              5   \n",
       "15  Knowledge of information technology, Ability t...              3   \n",
       "16  Knowledge of various sources/methods of obtain...              4   \n",
       "17  Driver License, oral and written reports, data...              2   \n",
       "18  Deep regional or functional expertise includin...              3   \n",
       "19  3-5 years of professional experience with a ba...              3   \n",
       "\n",
       "                                        min education  \\\n",
       "0                                    Bachelors Degree   \n",
       "1                                    Bachelors degree   \n",
       "2   Bachelor’s degree in Computer Science or crimi...   \n",
       "3                                       Not specified   \n",
       "4                                    Bachelors Degree   \n",
       "5                                    Bachelors Degree   \n",
       "6   Bachelor’s Degree in Computer Science, Busines...   \n",
       "7                                    Bachelors Degree   \n",
       "8                                     Bachelor Degree   \n",
       "9                                     Bachelors Degee   \n",
       "10                                   Bachelors Degree   \n",
       "11              Bachelor's degree in criminal justice   \n",
       "12                                   Bachelors Degree   \n",
       "13                                      Not specified   \n",
       "14                                      Not specified   \n",
       "15                                      Not specified   \n",
       "16                                    Bachelor Degree   \n",
       "17                    Bachelors Degree in Criminology   \n",
       "18                                  Bachelor's Degree   \n",
       "19                                   Bachelors Degree   \n",
       "\n",
       "                                                  url  \n",
       "0   https://www.indeed.com/jobs?q=counterterrorism...  \n",
       "1   https://www.indeed.com/jobs?q=intelligence%20a...  \n",
       "2   https://www.indeed.com/jobs?q=intelligence%20a...  \n",
       "3   https://www.indeed.com/jobs?q=intelligence%20a...  \n",
       "4   https://www.indeed.com/jobs?q=intelligence%20a...  \n",
       "5   https://www.indeed.com/q-intelligence-analyst-...  \n",
       "6   https://www.indeed.com/jobs?q=intelligence%20a...  \n",
       "7   https://www.indeed.com/jobs?q=counterterrorism...  \n",
       "8   https://www.indeed.com/q-intelligence-analyst-...  \n",
       "9   https://www.indeed.com/q-intelligence-analyst-...  \n",
       "10  https://www.indeed.com/jobs?q=intelligence%20a...  \n",
       "11  https://www.indeed.com/jobs?q=intelligence%20a...  \n",
       "12  https://www.indeed.com/q-intelligence-analyst-...  \n",
       "13  https://www.indeed.com/jobs?q=intelligence%20a...  \n",
       "14  https://www.indeed.com/jobs?q=intelligence%20a...  \n",
       "15  https://www.indeed.com/jobs?q=intelligence%20a...  \n",
       "16  https://www.indeed.com/jobs?q=intelligence%20a...  \n",
       "17  https://www.indeed.com/jobs?q=intelligence%20a...  \n",
       "18  https://www.indeed.com/jobs?q=intelligence%20a...  \n",
       "19  https://www.indeed.com/jobs?q=intelligence%20a...  "
      ]
     },
     "execution_count": 105,
     "metadata": {},
     "output_type": "execute_result"
    }
   ],
   "source": [
    "import pandas \n",
    "df=pandas.read_excel('new.xlsx')\n",
    "df[:20]"
   ]
  },
  {
   "cell_type": "code",
   "execution_count": 88,
   "metadata": {},
   "outputs": [],
   "source": [
    "import xlrd"
   ]
  },
  {
   "cell_type": "code",
   "execution_count": 17,
   "metadata": {},
   "outputs": [
    {
     "name": "stdout",
     "output_type": "stream",
     "text": [
      "['Strategic CounterTerrorism Analyst', 'Counterterrorism Intelligence Analyst', 'Open Source Intelligence Analyst', 'Cyber Security Analyst/Specialist', 'Intelligence Analyst Watch Team Member', 'Senior Cyber Intelligence Analyst', 'Business Intelligence Analyst', 'Intelligence Analyst', 'Business Intelligence Consultant', 'All Source Intelligence Analyst', 'Business Intelligence Analyst', 'Criminal Intelligence Analyst', 'Cyber Security Analyst lll-Splunk', 'Naval Intelligence Specialist ', 'All Source Intelligence Analyst', 'Intelligence Analyst ', 'Intelligence Analyst', ' Intelligence Analyst', 'Political Analyst', 'Intelligence Analyst']\n",
      "['BAE Systems', 'IntelCenter', 'Cobwebs America, Inc', 'Atlantic Systems Group', 'Dynamic Planning and Response', 'SAIC', 'Arteza', 'CENTRA Technology', 'Qualifacts', 'CyOne Inc', 'Omnitrans', 'Sherburne County Sherriff', 'Fannie Mae', 'US Navy', 'Veteran Solutions Inc.', 'US Inspection Service', 'City of Charlottesville', 'City of St. Petersburg ', 'Central Intelligence Agency', 'Decipher']\n",
      "[43502.0, 43545.0, 43545.0, 43553.0, 43556.0, 43559.0, 43561.0, 43563.0, 43566.0, 43566.0, 43566.0, 43568.0, 43569.0, 43571.0, 43572.0, 43572.0, 43572.0, 43574.0, 43683.0, 43788.0]\n",
      "['Washington DC', 'Washington DC', 'Manhattan, NY', 'Suffolk VA', 'Arlington, VA', 'Washington DC', 'North Miami Beach, FL', 'Arlington,VA', 'Nashville, TN', 'Aberdeen, MD', 'San Bernardino, CA ', 'Sherburne Co, MN', 'Reston,VA', 'Honolulu, HI', 'Washington DC', 'Washington DC', 'Charlottesville, VA', 'St Petersburg, FL', 'Washington D.C', 'St Louis, MO']\n",
      "[90000.0, 45000.0, 80000.0, 75000.0, 76000.0, 100000.0, 75000.0, 90000.0, 104000.0, 65000.0, 66972.0, 60000.0, 115000.0, 91242.0, 75000.0, 70173.0, 45302.0, 44952.0, 54308.0, 50000.0]\n",
      "['Research and produce all-source counterterrorism studies and products focused on groups and networks operating in various geographic areas to support senior U.S. government and DoD audiences.\\nProduce strategic-level all-source production on terrorist activities to include their operational capabilities, internal security, organizational facilities, and tactics, techniques, and procedures (TTP) in order to support national-level counterterrorism planning and operational missions.\\nBe working in a fast-paced environment, where multi-tasking and time-management skills are critical.', ' providing current intelligence counterterrorism support to the intel, military and law enforcement communities. Analysts have accounts within targeting, tactics, operational aspects and messaging', 'Prepare and present product demonstrations, address customer technical inquiries during the sales cycle, Identify market opportunities and trends, Participate in professional events and exhibition and gain market insights and trends\\n, Develop investigation use case and conduct open-source investigations\\n, detailed intelligence (OSINT) reports based on findings', 'cybersecurity expertise in the area of cybersecurity policy and compliance', \"Contractor for the National Infrastructure Coordinating Center (NICC) of the Department of Homeland Security (DHS). Employees will research, analyze, compose, edit and review NICC products; perform initial analysis of information  involving the nation's Critical Infrastructure, monitoring Local Area Network (LAN) accounts,  interfacing with sector representatives,\", 'Support 24x7 CYSOC activities, as deemed appropriate by the Government; provide oversight on operational activity and provide continuity between shifts; may serve as a Cybersecurity Watch Center Intelligence Analyst responsible for analyzing information collected from a variety of sources to identify, and report on events to protect information systems and networks from threats.\\nProduce all-source cyber intelligence analysis using various industry and government tools, available classified and unclassified data sets, and accepted methodologies for assessing network traffic; identify, investigate and analyze cyber events of intelligence significance; and collect data, analyze results, and prepare intelligence products relating to cyber mission objectives.\\n\\n', 'Review and validate customer data, Create or discover new data procurement and processing programs, Cooperate with Operations/ IT team to deploy software and hardware, facilitate meetings, Validate, interpret, and project performance metrics and KPI’s, Perform data profiling,', 'Analysts will be responsible for processing large volumes of intelligence data on on-going and ad hoc initiatives, as well as conducting in-depth, all-source analysis on individuals and entities. Ability to communicate clearly and effectively, both orally and in writing\\n', '\\nLead and collaborate with client end users and technical experts to ensure that data visualizations and reports meet their business needs\\nSupport and enhance the business intelligence data backend, including data platforms\\nCollaborate and provide technical guidance for design and implementation of data storage and governance systems', 'Provide analytical/operational insight and experience as a resident SME for the DCGS-A Program Office.\\nWork with Industry Partners and Systems Engineers to provide advice on the implementation of requirements to enhance capabilities of DCGS-A for currently fielded and future releases of DCGS-A software baselines.\\nProvide technical field support, over the shoulder training, integration, and testing in support of DCGS-A participation in fielding directly to CONUS/OCONUS locations', ' Conduct cost/benefit analysis, utilize modeling techniques and methods, understand systems engineering concepts, develop complex spreadsheets, and write business case reports. Responsible for statistical portion of the NTD (National Transit Database) reporting, documentation and audit review of agreed upon procedures.\\n Responsible for agency participation in American Bus Benchmarking Group (ABBG) reporting, clearinghouse studies, surveys and follow up questions from Imperial College.', 'Analyze statistical data, prepare statistical reports, prepare crime monitoring reports for police,Create informational reports in regards to suspects, maintain website, work with geogrpahical information systems', 'Conduct platform or operating system vulnerability scans which assess exposure of system to attacks or hacking. Respond to questions regarding viral activity, concerns about spam/phishing etc. Produce reports.\\nLead projects as related to technology refresh/evaluation such as Load Balancing and SSL technology. Research corrective measures (long term solutions) needed for any chronic issues identified that compromise security of particular systems or platforms.\\nParticipate in developing and testing of new methodologies and systems for recovery of the critical core business processes and the enterprise infrastructure.\\n', 'Conduct SIGINT, maintain subject matter expertise on Cryptologic systems, data accesses, and Information Technology (IT), You will manage command IT infrastructure including budget requirements, system administration, security requirements', 'Maintain databases, Conduct special research studies, Write for various publications on behalf of the organization, Initiate the collection of intelligence to fill critical gaps', 'development of quantitative and qualitative standards for intelligence data, Provide technical advice, program guidance, and testimonial services to federal, state, and local law enforcement communities, planning, coordination, and implementation of comprehensive special studies, national criminal forecast and profiles, and inter-agency intelligence research', 'Independently determines necessary principal and supplemental leads for research and analysis from cases assigned to detectives with limited preliminary information; processes general investigative cases from inception to completion;\\r\\nResearches, records, and uses computerized databases to conduct investigations based on specific requests for information or in response to identifiable events;\\r\\nIdentifies persons and suspects based on partial descriptions and conducts detailed background research on the persons through direct computer access or personal contact with systems and organizations to further law enforcement investigations;\\r\\nAnalyzes all information found, determines and extracts that which is pertinent to investigative case at hand, and evaluates investigative significance of information and determines ', 'Analyze criminal patterns, forecast for law enforcement', 'you will support policymakers by producing and delivering written and oral assessments ', 'Serve as CI analyst; Brief Morning Meeting Daily, Background Research, Source Telephone Interviews, Analysis & Report Drafting']\n",
      "['The candidate must have a working knowledge of Intelligence Community reporting methods, experience with various message handling systems, and Microsoft Office', \"Experience with i2's Analyst Notebook, CartoDB, Tableau, Babel Street, OpenIO, facial recognition software, Must be able to rate at Intermediate Mid or higher on the ACTFL scale for Arabic, US citizen and eligible for a TS/SCI clearance\", 'Proven track record working as OSINT Analyst for 3 years in Law enforcement or intelligence organizations, technology skills, Certificates: applicable criminal analyst certification', 'A/CS analysis support in IA/security controls analysis, conducting risk assessments, risk mitigation analysis, developing contingency plans. IA/CS requirements and vulnerability assessments.\\nDIACAP C&A / RMF A&A requirements and processes.\\nRisk and vulnerability assessment and risk mitigation analysis.\\nIA/CS policy development, review and/or implementation.\\nSystem analysis, design, integration, security test and evaluation.\\nPorts, Protocols, and Services.', '\\nPrevious Military, State or Federal level 24/7 Operation Watch Experience (the more senior level the better), rmilitary staff operations experience, Ability to plan and organize tasks independently\\n', 'Experience producing all-source cyber intelligence products, incorporating technical, open source, and classified information to identify and understand cyber threats from available data sources. \\nAbility to adapt and develop the most advanced cyber security tools and analysis practices to the Foreign Intelligence assessment mission.\\n', 'Experience with BI tools such as Domo or Tableau, Strong analytical, quantitative, problem solving, and organizational skills', 'In-depth and demonstrated knowledge of one or more of the following disciplines: watchlisting, identity analysis, intelligence, law enforcement, United States military, and / or national security (counterterrorism, counterintelligence, transnational organized crime, and weapons of mass destruction)', 'Experience working with large data sets; experience with distributed computing tools and other emerging technologies\\nExperience with Big Data platforms and data warehousing\\nDemonstrated experience with data visualization tools \\nData Modeling experience using ERD tools\\n\\n\\n', 'Knowledge of WFXs, CTCs, software enhancement discussions, and testing events,', 'knowledge of Business communications techniques; correct telephone etiquette English grammar and usage, vocabulary, spelling, and punctuation; arithmetic computations involving algebra and statistics; and data processing techniques. They will also possess the ability to research, compile and analyze complex data', 'Skill in general computer functions and PC software applications, Knowledge of principles and applications of mathematics and statistics, knowledge of law enforcement methods, procedures and criminal investigation.', 'Expert in Splunk rule creation and monitoring, experience with Splunk Enterprise Security preferred.\\nExperience with email and advanced malware detection technologies such as FireEye and Yara.\\nExperience investigating computer network intrusions in an enterprise\\nExperience investigating computer network intrusions in an enterprise\\nExperience hunting proactively for threats within an enterprise', 'Experience onducting SIGINT, Managing command or organization information technology infrastructure. Must obtain and maintain access to Sensitive Compartmented Information (SCI).', 'Strong research skills, Strong verbal and written communication skills, proficient in utilizing intelligence related automation', 'Knowledge of information technology, Ability to plan, coordinate, and implement special studies, national criminal forecast and profiles, training initiatives, and inter-agency intelligence research, ', 'Knowledge of various sources/methods of obtaining data and techniques used in the analysis of data;\\r\\nSkill and ability in establishing, maintaining, and cultivating reliable and effective interpersonal relationships with a myriad of contacts and sources to ensure that vital information is obtained as effectively, efficiently, and expeditiously as possible;\\r\\nAbility to plan and organize assigned work;\\r\\nAbility to manage changing priorities and handle a variety of assignments; based on a dynamic environment.', 'Driver License, oral and written reports, data research methods, statistical methods/techniques, computer software', 'Deep regional or functional expertise including travel or residency in the region\\nStrong verbal presentation skills\\nAwareness of US national security interests\\nForeign language capability\\nProficiency in at least one language pertinent to area expertise\\nDemonstrated ability to write clear, concise text\\nResearch experience in international affairs', '3-5 years of professional experience with a background in any of the following intelligence gathering, investigations, cold-calling, legal industry knowledge, journalism, or professional writing.']\n",
      "[4.0, 2.0, 3.0, 5.0, 5.0, 14.0, 3.0, 2.0, 5.0, 8.0, 5.0, 3.0, 4.0, 1.0, 5.0, 3.0, 4.0, 2.0, 3.0, 3.0]\n",
      "['Bachelors Degree', 'Bachelors degree', 'Bachelor’s degree in Computer Science or criminal Justice', 'Not specified', 'Bachelors Degree', 'Bachelors Degree', 'Bachelor’s Degree in Computer Science, Business Intelligence', 'Bachelors Degree', 'Bachelor Degree', 'Bachelors Degee', 'Bachelors Degree', \"Bachelor's degree in criminal justice\", 'Bachelors Degree', 'Not specified', 'Not specified', 'Not specified', 'Bachelor Degree', 'Bachelors Degree in Criminology', \"Bachelor's Degree\", 'Bachelors Degree']\n",
      "['https://www.indeed.com/jobs?q=counterterrorism%20analyst%20%20%2490%2C000&l&advn=3565145538192372&vjk=84e17cd63d495234', 'https://www.indeed.com/jobs?q=intelligence%20analyst&l=Anywhere&vjk=e256ac29112a69d3&advn=4178624039183287', 'https://www.indeed.com/jobs?q=intelligence%20analyst&l=Anywhere&start=40&vjk=f54eac65f081295f&advn=9817689858894898', 'https://www.indeed.com/jobs?q=intelligence%20analyst&jt=fulltime&advn=5868333052391023&vjk=5d031a86e2304b7c', 'https://www.indeed.com/jobs?q=intelligence%20analyst&l=Anywhere&start=40&vjk=5c61fd4f26a2b693', 'https://www.indeed.com/q-intelligence-analyst--$100,000-jobs.html?advn=4529272571444972&vjk=96950ce6aa6d7e0a', 'https://www.indeed.com/jobs?q=intelligence%20analyst&l=Anywhere&start=20&vjk=1d383163bbfa1673&advn=8525825463794139', 'https://www.indeed.com/jobs?q=counterterrorism%20analyst%20%20%2490%2C000&l&vjk=5ad94db54190a47a', 'https://www.indeed.com/q-intelligence-analyst-$104,400-l-Harrisonburg,-VA-jobs.html?advn=28894708623021&vjk=8ecc5d94f6ec17a1', 'https://www.indeed.com/q-intelligence-analyst-$65,000-jobs.html?advn=7768763801416529&vjk=d051d68a9edab720', 'https://www.indeed.com/jobs?q=intelligence%20analyst&l=Anywhere&start=80&vjk=d026dd4b907f352e&advn=8570455701453340', 'https://www.indeed.com/jobs?q=intelligence%20analyst&l=Anywhere&start=20&vjk=bdc5cb853059a1aa', 'https://www.indeed.com/q-intelligence-analyst--$115,000-jobs.html?advn=2405076341063149&vjk=fb78563912c89d37', 'https://www.indeed.com/jobs?q=intelligence%20analyst&l=Anywhere&start=40&vjk=3e05b3c6b7aab0cd', 'https://www.indeed.com/jobs?q=intelligence%20analyst&l=Anywhere&vjk=2a4840fd64041c73', 'https://www.indeed.com/jobs?q=intelligence%20analyst&l=Anywhere&start=30&vjk=376febd55bd618a2', 'https://www.indeed.com/jobs?q=intelligence%20analyst&jt=fulltime&vjk=b84dc599ca5e62fc', 'https://www.indeed.com/jobs?q=intelligence%20analyst&l=Anywhere&vjk=16104c723cb0242b', 'https://www.indeed.com/jobs?q=intelligence%20analyst&l=Washington%2C%20DC&radius=50&jt=fulltime&start=10&vjk=91e1469788f408fb&advn=3763140750965033', 'https://www.indeed.com/jobs?q=intelligence%20analyst&l=Anywhere&start=20&advn=6691391363138255&vjk=8655df9524a0a325']\n"
     ]
    }
   ],
   "source": [
    "import xlrd\n",
    "\n",
    "book=xlrd.open_workbook('new.xlsx')\n",
    "\n",
    "sheet=book.sheet_by_name('Sheet1')\n",
    "job_title_list=[]\n",
    "company_name_list=[]\n",
    "posted_date_list=[]\n",
    "job_location_list=[]\n",
    "minimal_salary_list=[]\n",
    "job_duties_list=[]\n",
    "required_skills_list=[]\n",
    "min_years_exp_list=[]\n",
    "min_education_list=[]\n",
    "url_list=[]\n",
    "\n",
    "for i in range(sheet.nrows):\n",
    "    job_title,company_name,posted_date,job_location,minimal_salary,job_duties,required_skills,min_years_exp,min_education,url=sheet.row_values(i)\n",
    "    if i !=0:\n",
    "        \n",
    "        job_title_list.append(job_title)\n",
    "        company_name_list.append(company_name)\n",
    "        posted_date_list.append(posted_date)\n",
    "        job_location_list.append(job_location)\n",
    "        minimal_salary_list.append(minimal_salary)\n",
    "        job_duties_list.append(job_duties)\n",
    "        required_skills_list.append(required_skills)\n",
    "        min_years_exp_list.append(min_years_exp)\n",
    "        min_education_list.append(min_education)\n",
    "        url_list.append(url)\n",
    "print(job_title_list)\n",
    "print(company_name_list)\n",
    "print(posted_date_list)\n",
    "print(job_location_list)\n",
    "print(minimal_salary_list)\n",
    "print(job_duties_list)\n",
    "print(required_skills_list)\n",
    "print(min_years_exp_list)\n",
    "print(min_education_list)\n",
    "print(url_list)"
   ]
  },
  {
   "cell_type": "code",
   "execution_count": 90,
   "metadata": {},
   "outputs": [
    {
     "name": "stdout",
     "output_type": "stream",
     "text": [
      "Counter({'Intelligence Analyst': 3, 'Business Intelligence Analyst': 2, 'All Source Intelligence Analyst': 2, 'Strategic CounterTerrorism Analyst': 1, 'Counterterrorism Intelligence Analyst': 1, 'Open Source Intelligence Analyst': 1, 'Cyber Security Analyst/Specialist': 1, 'Intelligence Analyst Watch Team Member': 1, 'Senior Cyber Intelligence Analyst': 1, 'Business Intelligence Consultant': 1, 'Criminal Intelligence Analyst': 1, 'Cyber Security Analyst lll-Splunk': 1, 'Naval Intelligence Specialist ': 1, 'Intelligence Analyst ': 1, ' Intelligence Analyst': 1, 'Political Analyst': 1})\n"
     ]
    }
   ],
   "source": [
    "import xlwt\n",
    "from collections import Counter\n",
    "from nltk.corpus import stopwords\n",
    "stop = set(stopwords.words('english'))\n",
    "\n",
    "count_result=Counter(job_title_list)\n",
    "\n",
    "\n",
    "print(count_result)\n"
   ]
  },
  {
   "cell_type": "markdown",
   "metadata": {},
   "source": [
    "The most common job title is \"Intelligence Analyst\""
   ]
  },
  {
   "cell_type": "markdown",
   "metadata": {},
   "source": [
    "# 2.2 Which company posted the most number of jobs"
   ]
  },
  {
   "cell_type": "code",
   "execution_count": 93,
   "metadata": {},
   "outputs": [
    {
     "name": "stdout",
     "output_type": "stream",
     "text": [
      "Counter({'BAE Systems': 1, 'IntelCenter': 1, 'Cobwebs America, Inc': 1, 'Atlantic Systems Group': 1, 'Dynamic Planning and Response': 1, 'SAIC': 1, 'Arteza': 1, 'CENTRA Technology': 1, 'Qualifacts': 1, 'CyOne Inc': 1, 'Omnitrans': 1, 'Sherburne County Sherriff': 1, 'Fannie Mae': 1, 'US Navy': 1, 'Veteran Solutions Inc.': 1, 'US Inspection Service': 1, 'City of Charlottesville': 1, 'City of St. Petersburg ': 1, 'Central Intelligence Agency': 1, 'Decipher': 1})\n",
      "['BAE Systems', 'IntelCenter', 'Cobwebs America, Inc', 'Atlantic Systems Group', 'Dynamic Planning and Response', 'SAIC', 'Arteza', 'CENTRA Technology', 'Qualifacts', 'CyOne Inc', 'Omnitrans', 'Sherburne County Sherriff', 'Fannie Mae', 'US Navy', 'Veteran Solutions Inc.', 'US Inspection Service', 'City of Charlottesville', 'City of St. Petersburg ', 'Central Intelligence Agency', 'Decipher']\n",
      "[1, 1, 1, 1, 1, 1, 1, 1, 1, 1, 1, 1, 1, 1, 1, 1, 1, 1, 1, 1]\n"
     ]
    }
   ],
   "source": [
    "from collections import Counter\n",
    "from nltk.corpus import stopwords\n",
    "stop = set(stopwords.words('english'))\n",
    "\n",
    "count_result=Counter(company_name_list)\n",
    "print(count_result)\n",
    "word_list = []\n",
    "count_list = []\n",
    "for word,count in count_result.most_common(20):\n",
    "    word_list.append(word)\n",
    "    count_list.append(count)\n",
    "print(word_list)\n",
    "print(count_list)\n"
   ]
  },
  {
   "cell_type": "code",
   "execution_count": 94,
   "metadata": {},
   "outputs": [
    {
     "data": {
      "text/plain": [
       "<BarContainer object of 20 artists>"
      ]
     },
     "execution_count": 94,
     "metadata": {},
     "output_type": "execute_result"
    },
    {
     "data": {
      "image/png": "[encoded data removed]",
      "text/plain": [
       "<Figure size 432x288 with 1 Axes>"
      ]
     },
     "metadata": {},
     "output_type": "display_data"
    }
   ],
   "source": [
    "plt.barh(list(count_result.keys()),list(count_result.values()))"
   ]
  },
  {
   "cell_type": "markdown",
   "metadata": {},
   "source": [
    "Each company posted the same number of jobs throughout the data"
   ]
  },
  {
   "cell_type": "markdown",
   "metadata": {},
   "source": [
    "# 2.3 How do the number of job posts vary by days?"
   ]
  },
  {
   "cell_type": "code",
   "execution_count": 95,
   "metadata": {},
   "outputs": [
    {
     "data": {
      "text/plain": [
       "0    2019-02-06\n",
       "1    2019-03-21\n",
       "2    2019-03-21\n",
       "3    2019-03-29\n",
       "4    2019-04-01\n",
       "5    2019-04-04\n",
       "6    2019-04-06\n",
       "7    2019-04-08\n",
       "8    2019-04-11\n",
       "9    2019-04-11\n",
       "10   2019-04-11\n",
       "11   2019-04-13\n",
       "12   2019-04-14\n",
       "13   2019-04-16\n",
       "14   2019-04-17\n",
       "15   2019-04-17\n",
       "16   2019-04-17\n",
       "17   2019-04-19\n",
       "18   2019-08-06\n",
       "19   2019-11-19\n",
       "Name: posted date, dtype: datetime64[ns]"
      ]
     },
     "execution_count": 95,
     "metadata": {},
     "output_type": "execute_result"
    }
   ],
   "source": [
    "import pandas\n",
    "df=pandas.read_excel(\"new.xlsx\")\n",
    "df['posted date']"
   ]
  },
  {
   "cell_type": "code",
   "execution_count": 96,
   "metadata": {},
   "outputs": [
    {
     "name": "stdout",
     "output_type": "stream",
     "text": [
      "dict_keys([Timestamp('2019-02-06 00:00:00'), Timestamp('2019-03-21 00:00:00'), Timestamp('2019-03-29 00:00:00'), Timestamp('2019-04-01 00:00:00'), Timestamp('2019-04-04 00:00:00'), Timestamp('2019-04-06 00:00:00'), Timestamp('2019-04-08 00:00:00'), Timestamp('2019-04-11 00:00:00'), Timestamp('2019-04-13 00:00:00'), Timestamp('2019-04-14 00:00:00'), Timestamp('2019-04-16 00:00:00'), Timestamp('2019-04-17 00:00:00'), Timestamp('2019-04-19 00:00:00'), Timestamp('2019-08-06 00:00:00'), Timestamp('2019-11-19 00:00:00')])\n"
     ]
    }
   ],
   "source": [
    "from collections import Counter\n",
    "result1=Counter(df['posted date'])\n",
    "print(result1.keys())"
   ]
  },
  {
   "cell_type": "code",
   "execution_count": 97,
   "metadata": {},
   "outputs": [
    {
     "data": {
      "image/png": "[encoded data removed]",
      "text/plain": [
       "<Figure size 432x288 with 1 Axes>"
      ]
     },
     "metadata": {},
     "output_type": "display_data"
    }
   ],
   "source": [
    "plt.plot(result1.keys(),result1.values())\n",
    "plt.show()"
   ]
  },
  {
   "cell_type": "markdown",
   "metadata": {},
   "source": [
    "There is a almost an immediate hike in february but then there is a shift between drops nad hikes between March 3, 2019 and April 4, 2019. Then an immediate stable drop afterwards. "
   ]
  },
  {
   "cell_type": "markdown",
   "metadata": {},
   "source": [
    "# 2.4 Where are the location of the jobs?"
   ]
  },
  {
   "cell_type": "code",
   "execution_count": 26,
   "metadata": {},
   "outputs": [],
   "source": [
    "%matplotlib inline\n",
    "import matplotlib.pyplot as plt"
   ]
  },
  {
   "cell_type": "code",
   "execution_count": 136,
   "metadata": {},
   "outputs": [
    {
     "data": {
      "image/png": "[encoded data removed]",
      "text/plain": [
       "<Figure size 432x288 with 1 Axes>"
      ]
     },
     "metadata": {},
     "output_type": "display_data"
    }
   ],
   "source": [
    "from collections import Counter\n",
    "\n",
    "result = Counter(df['job location'])\n",
    "\n",
    "plt.barh(list(result.keys()),list(result.values()))\n",
    "plt.show()"
   ]
  },
  {
   "cell_type": "markdown",
   "metadata": {},
   "source": [
    "Although the locations vary primarily along the east coast of the United States, a majority of the job locations are located within Washington,D.C."
   ]
  },
  {
   "cell_type": "markdown",
   "metadata": {},
   "source": [
    "# 2.5 What is the average minimum salary?"
   ]
  },
  {
   "cell_type": "code",
   "execution_count": 19,
   "metadata": {},
   "outputs": [
    {
     "name": "stdout",
     "output_type": "stream",
     "text": [
      "mean minimal salary is 73647.45\n"
     ]
    }
   ],
   "source": [
    "import numpy as np\n",
    "print('mean minimal salary is {}'.format(np.mean(minimal_salary_list)))"
   ]
  },
  {
   "cell_type": "markdown",
   "metadata": {},
   "source": [
    "The average minimal salary from the jobs within the data set is $73,647.45."
   ]
  },
  {
   "cell_type": "markdown",
   "metadata": {},
   "source": [
    "# 2.6 What is the average minimal years of experience?"
   ]
  },
  {
   "cell_type": "code",
   "execution_count": 108,
   "metadata": {},
   "outputs": [
    {
     "name": "stdout",
     "output_type": "stream",
     "text": [
      "mean minimal years is 4.2\n"
     ]
    }
   ],
   "source": [
    "print('mean minimal years is {}'.format(np.mean(min_years_exp_list)))"
   ]
  },
  {
   "cell_type": "markdown",
   "metadata": {},
   "source": [
    " The average minimal years of experience from the jobs within the data set is 4.2 years."
   ]
  },
  {
   "cell_type": "markdown",
   "metadata": {},
   "source": [
    "# 2.7 How are the years of experience related to the salaries?"
   ]
  },
  {
   "cell_type": "code",
   "execution_count": 22,
   "metadata": {},
   "outputs": [
    {
     "name": "stdout",
     "output_type": "stream",
     "text": [
      "the cor minimum number of years and salaries is 0.3142180738517095\n"
     ]
    }
   ],
   "source": [
    "print(\"the cor minimum number of years and salaries is {}\".format(np.corrcoef(min_years_exp_list,minimal_salary_list)[0][1]))"
   ]
  },
  {
   "cell_type": "code",
   "execution_count": 27,
   "metadata": {},
   "outputs": [
    {
     "data": {
      "image/png": "[encoded data removed]",
      "text/plain": [
       "<Figure size 432x288 with 1 Axes>"
      ]
     },
     "metadata": {},
     "output_type": "display_data"
    }
   ],
   "source": [
    "plt.scatter(min_years_exp_list,minimal_salary_list)\n",
    "plt.show()"
   ]
  },
  {
   "cell_type": "markdown",
   "metadata": {},
   "source": [
    "There seems to be a positive correlation between the years of experience and the minimal salry recieved according to the chart."
   ]
  },
  {
   "cell_type": "markdown",
   "metadata": {},
   "source": [
    "# 2.8 What are the common job duties?"
   ]
  },
  {
   "cell_type": "code",
   "execution_count": 112,
   "metadata": {},
   "outputs": [
    {
     "name": "stdout",
     "output_type": "stream",
     "text": [
      "Research and produce all-source counterterrorism studies and products focused on groups and networks operating in various geographic areas to support senior U.S. government and DoD audiences.\n",
      "Produce strategic-level all-source production on terrorist activities to include their operational capabilities, internal security, organizational facilities, and tactics, techniques, and procedures (TTP) in order to support national-level counterterrorism planning and operational missions.\n",
      "Be working in a fast-paced environment, where multi-tasking and time-management skills are critical.\n",
      " providing current intelligence counterterrorism support to the intel, military and law enforcement communities. Analysts have accounts within targeting, tactics, operational aspects and messaging\n",
      "Prepare and present product demonstrations, address customer technical inquiries during the sales cycle, Identify market opportunities and trends, Participate in professional events and exhibition and gain market insights and trends\n",
      ", Develop investigation use case and conduct open-source investigations\n",
      ", detailed intelligence (OSINT) reports based on findings\n",
      "cybersecurity expertise in the area of cybersecurity policy and compliance\n",
      "Contractor for the National Infrastructure Coordinating Center (NICC) of the Department of Homeland Security (DHS). Employees will research, analyze, compose, edit and review NICC products; perform initial analysis of information  involving the nation's Critical Infrastructure, monitoring Local Area Network (LAN) accounts,  interfacing with sector representatives,\n",
      "Support 24x7 CYSOC activities, as deemed appropriate by the Government; provide oversight on operational activity and provide continuity between shifts; may serve as a Cybersecurity Watch Center Intelligence Analyst responsible for analyzing information collected from a variety of sources to identify, and report on events to protect information systems and networks from threats.\n",
      "Produce all-source cyber intelligence analysis using various industry and government tools, available classified and unclassified data sets, and accepted methodologies for assessing network traffic; identify, investigate and analyze cyber events of intelligence significance; and collect data, analyze results, and prepare intelligence products relating to cyber mission objectives.\n",
      "\n",
      "\n",
      "Review and validate customer data, Create or discover new data procurement and processing programs, Cooperate with Operations/ IT team to deploy software and hardware, facilitate meetings, Validate, interpret, and project performance metrics and KPI’s, Perform data profiling,\n",
      "Analysts will be responsible for processing large volumes of intelligence data on on-going and ad hoc initiatives, as well as conducting in-depth, all-source analysis on individuals and entities. Ability to communicate clearly and effectively, both orally and in writing\n",
      "\n",
      "\n",
      "Lead and collaborate with client end users and technical experts to ensure that data visualizations and reports meet their business needs\n",
      "Support and enhance the business intelligence data backend, including data platforms\n",
      "Collaborate and provide technical guidance for design and implementation of data storage and governance systems\n",
      "Provide analytical/operational insight and experience as a resident SME for the DCGS-A Program Office.\n",
      "Work with Industry Partners and Systems Engineers to provide advice on the implementation of requirements to enhance capabilities of DCGS-A for currently fielded and future releases of DCGS-A software baselines.\n",
      "Provide technical field support, over the shoulder training, integration, and testing in support of DCGS-A participation in fielding directly to CONUS/OCONUS locations\n",
      " Conduct cost/benefit analysis, utilize modeling techniques and methods, understand systems engineering concepts, develop complex spreadsheets, and write business case reports. Responsible for statistical portion of the NTD (National Transit Database) reporting, documentation and audit review of agreed upon procedures.\n",
      " Responsible for agency participation in American Bus Benchmarking Group (ABBG) reporting, clearinghouse studies, surveys and follow up questions from Imperial College.\n",
      "Analyze statistical data, prepare statistical reports, prepare crime monitoring reports for police,Create informational reports in regards to suspects, maintain website, work with geogrpahical information systems\n",
      "Conduct platform or operating system vulnerability scans which assess exposure of system to attacks or hacking. Respond to questions regarding viral activity, concerns about spam/phishing etc. Produce reports.\n",
      "Lead projects as related to technology refresh/evaluation such as Load Balancing and SSL technology. Research corrective measures (long term solutions) needed for any chronic issues identified that compromise security of particular systems or platforms.\n",
      "Participate in developing and testing of new methodologies and systems for recovery of the critical core business processes and the enterprise infrastructure.\n",
      "\n",
      "Conduct SIGINT, maintain subject matter expertise on Cryptologic systems, data accesses, and Information Technology (IT), You will manage command IT infrastructure including budget requirements, system administration, security requirements\n",
      "Maintain databases, Conduct special research studies, Write for various publications on behalf of the organization, Initiate the collection of intelligence to fill critical gaps\n",
      "development of quantitative and qualitative standards for intelligence data, Provide technical advice, program guidance, and testimonial services to federal, state, and local law enforcement communities, planning, coordination, and implementation of comprehensive special studies, national criminal forecast and profiles, and inter-agency intelligence research\n",
      "Independently determines necessary principal and supplemental leads for research and analysis from cases assigned to detectives with limited preliminary information; processes general investigative cases from inception to completion;\r\n",
      "Researches, records, and uses computerized databases to conduct investigations based on specific requests for information or in response to identifiable events;\r\n",
      "Identifies persons and suspects based on partial descriptions and conducts detailed background research on the persons through direct computer access or personal contact with systems and organizations to further law enforcement investigations;\r\n",
      "Analyzes all information found, determines and extracts that which is pertinent to investigative case at hand, and evaluates investigative significance of information and determines \n",
      "Analyze criminal patterns, forecast for law enforcement\n",
      "you will support policymakers by producing and delivering written and oral assessments \n",
      "Serve as CI analyst; Brief Morning Meeting Daily, Background Research, Source Telephone Interviews, Analysis & Report Drafting\n"
     ]
    }
   ],
   "source": [
    "for duty in df['job duties']:\n",
    "    print (duty)"
   ]
  },
  {
   "cell_type": "code",
   "execution_count": 117,
   "metadata": {},
   "outputs": [
    {
     "name": "stdout",
     "output_type": "stream",
     "text": [
      "Serve as CI analyst; Brief Morning Meeting Daily, Background Research, Source Telephone Interviews, Analysis & Report Draftingyou will support policymakers by producing and delivering written and oral assessments Analyze criminal patterns, forecast for law enforcementIndependently determines necessary principal and supplemental leads for research and analysis from cases assigned to detectives with limited preliminary information; processes general investigative cases from inception to completion;\r\n",
      "Researches, records, and uses computerized databases to conduct investigations based on specific requests for information or in response to identifiable events;\r\n",
      "Identifies persons and suspects based on partial descriptions and conducts detailed background research on the persons through direct computer access or personal contact with systems and organizations to further law enforcement investigations;\r\n",
      "Analyzes all information found, determines and extracts that which is pertinent to investigative case at hand, and evaluates investigative significance of information and determines development of quantitative and qualitative standards for intelligence data, Provide technical advice, program guidance, and testimonial services to federal, state, and local law enforcement communities, planning, coordination, and implementation of comprehensive special studies, national criminal forecast and profiles, and inter-agency intelligence researchMaintain databases, Conduct special research studies, Write for various publications on behalf of the organization, Initiate the collection of intelligence to fill critical gapsConduct SIGINT, maintain subject matter expertise on Cryptologic systems, data accesses, and Information Technology (IT), You will manage command IT infrastructure including budget requirements, system administration, security requirementsConduct platform or operating system vulnerability scans which assess exposure of system to attacks or hacking. Respond to questions regarding viral activity, concerns about spam/phishing etc. Produce reports.\n",
      "Lead projects as related to technology refresh/evaluation such as Load Balancing and SSL technology. Research corrective measures (long term solutions) needed for any chronic issues identified that compromise security of particular systems or platforms.\n",
      "Participate in developing and testing of new methodologies and systems for recovery of the critical core business processes and the enterprise infrastructure.\n",
      "Analyze statistical data, prepare statistical reports, prepare crime monitoring reports for police,Create informational reports in regards to suspects, maintain website, work with geogrpahical information systems Conduct cost/benefit analysis, utilize modeling techniques and methods, understand systems engineering concepts, develop complex spreadsheets, and write business case reports. Responsible for statistical portion of the NTD (National Transit Database) reporting, documentation and audit review of agreed upon procedures.\n",
      " Responsible for agency participation in American Bus Benchmarking Group (ABBG) reporting, clearinghouse studies, surveys and follow up questions from Imperial College.Provide analytical/operational insight and experience as a resident SME for the DCGS-A Program Office.\n",
      "Work with Industry Partners and Systems Engineers to provide advice on the implementation of requirements to enhance capabilities of DCGS-A for currently fielded and future releases of DCGS-A software baselines.\n",
      "Provide technical field support, over the shoulder training, integration, and testing in support of DCGS-A participation in fielding directly to CONUS/OCONUS locations\n",
      "Lead and collaborate with client end users and technical experts to ensure that data visualizations and reports meet their business needs\n",
      "Support and enhance the business intelligence data backend, including data platforms\n",
      "Collaborate and provide technical guidance for design and implementation of data storage and governance systemsAnalysts will be responsible for processing large volumes of intelligence data on on-going and ad hoc initiatives, as well as conducting in-depth, all-source analysis on individuals and entities. Ability to communicate clearly and effectively, both orally and in writing\n",
      "Review and validate customer data, Create or discover new data procurement and processing programs, Cooperate with Operations/ IT team to deploy software and hardware, facilitate meetings, Validate, interpret, and project performance metrics and KPI’s, Perform data profiling,Support 24x7 CYSOC activities, as deemed appropriate by the Government; provide oversight on operational activity and provide continuity between shifts; may serve as a Cybersecurity Watch Center Intelligence Analyst responsible for analyzing information collected from a variety of sources to identify, and report on events to protect information systems and networks from threats.\n",
      "Produce all-source cyber intelligence analysis using various industry and government tools, available classified and unclassified data sets, and accepted methodologies for assessing network traffic; identify, investigate and analyze cyber events of intelligence significance; and collect data, analyze results, and prepare intelligence products relating to cyber mission objectives.\n",
      "\n",
      "Contractor for the National Infrastructure Coordinating Center (NICC) of the Department of Homeland Security (DHS). Employees will research, analyze, compose, edit and review NICC products; perform initial analysis of information  involving the nation's Critical Infrastructure, monitoring Local Area Network (LAN) accounts,  interfacing with sector representatives,cybersecurity expertise in the area of cybersecurity policy and compliancePrepare and present product demonstrations, address customer technical inquiries during the sales cycle, Identify market opportunities and trends, Participate in professional events and exhibition and gain market insights and trends\n",
      ", Develop investigation use case and conduct open-source investigations\n",
      ", detailed intelligence (OSINT) reports based on findings providing current intelligence counterterrorism support to the intel, military and law enforcement communities. Analysts have accounts within targeting, tactics, operational aspects and messagingResearch and produce all-source counterterrorism studies and products focused on groups and networks operating in various geographic areas to support senior U.S. government and DoD audiences.\n",
      "Produce strategic-level all-source production on terrorist activities to include their operational capabilities, internal security, organizational facilities, and tactics, techniques, and procedures (TTP) in order to support national-level counterterrorism planning and operational missions.\n",
      "Be working in a fast-paced environment, where multi-tasking and time-management skills are critical.\n"
     ]
    }
   ],
   "source": [
    "duties =''\n",
    "for duty in df['job duties']:\n",
    "    duties = duty + duties\n",
    "print (duties)"
   ]
  },
  {
   "cell_type": "code",
   "execution_count": 118,
   "metadata": {},
   "outputs": [],
   "source": [
    "import xlwt        \n",
    "\n",
    "from collections import Counter        \n",
    "\n",
    "from nltk.corpus import stopwords\n",
    "\n",
    "stop = set(stopwords.words('english'))\n",
    "\n",
    "  \n",
    "\n",
    "book = xlwt.Workbook() # create a new excel file\n",
    "\n",
    "sheet_test = book.add_sheet('word_count') # add a new sheet\n",
    "\n",
    "i = 0\n",
    "\n",
    "sheet_test.write(i,0,'word') # write the header of the first column\n",
    "\n",
    "sheet_test.write(i,1,'count') # write the header of the second column\n",
    "\n",
    "sheet_test.write(i,2,'ratio') # write the header of the third column"
   ]
  },
  {
   "cell_type": "code",
   "execution_count": 122,
   "metadata": {},
   "outputs": [],
   "source": [
    "word_list = [i for i in duties.lower().split() if i not in stop]\n",
    "\n",
    "word_total = word_list.__len__()\n",
    "\n",
    "\n",
    "\n",
    "count_result =  Counter(word_list)\n",
    "\n",
    "for result in count_result.most_common(20):\n",
    "\n",
    "    i = i+1 \n",
    "\n",
    "    sheet_test.write(i,0,result[0])\n",
    "\n",
    "    sheet_test.write(i,1,result[1])\n",
    "\n",
    "    sheet_test.write(i,2,(result[1]/word_total))\n",
    "\n",
    "    \n",
    "\n",
    "book.save('duties.xls')# define the location of your excel file\n",
    "\n"
   ]
  },
  {
   "cell_type": "markdown",
   "metadata": {},
   "source": [
    "<img src=\"finalduties.png\">"
   ]
  },
  {
   "cell_type": "markdown",
   "metadata": {},
   "source": [
    "The common job duties include producing repots,analyzing, an being responsible"
   ]
  },
  {
   "cell_type": "markdown",
   "metadata": {},
   "source": [
    "# 2.9"
   ]
  },
  {
   "cell_type": "code",
   "execution_count": 124,
   "metadata": {},
   "outputs": [
    {
     "name": "stdout",
     "output_type": "stream",
     "text": [
      "3-5 years of professional experience with a background in any of the following intelligence gathering, investigations, cold-calling, legal industry knowledge, journalism, or professional writing.Deep regional or functional expertise including travel or residency in the region\n",
      "Strong verbal presentation skills\n",
      "Awareness of US national security interests\n",
      "Foreign language capability\n",
      "Proficiency in at least one language pertinent to area expertise\n",
      "Demonstrated ability to write clear, concise text\n",
      "Research experience in international affairsDriver License, oral and written reports, data research methods, statistical methods/techniques, computer softwareKnowledge of various sources/methods of obtaining data and techniques used in the analysis of data;\r\n",
      "Skill and ability in establishing, maintaining, and cultivating reliable and effective interpersonal relationships with a myriad of contacts and sources to ensure that vital information is obtained as effectively, efficiently, and expeditiously as possible;\r\n",
      "Ability to plan and organize assigned work;\r\n",
      "Ability to manage changing priorities and handle a variety of assignments; based on a dynamic environment.Knowledge of information technology, Ability to plan, coordinate, and implement special studies, national criminal forecast and profiles, training initiatives, and inter-agency intelligence research, Strong research skills, Strong verbal and written communication skills, proficient in utilizing intelligence related automationExperience onducting SIGINT, Managing command or organization information technology infrastructure. Must obtain and maintain access to Sensitive Compartmented Information (SCI).Expert in Splunk rule creation and monitoring, experience with Splunk Enterprise Security preferred.\n",
      "Experience with email and advanced malware detection technologies such as FireEye and Yara.\n",
      "Experience investigating computer network intrusions in an enterprise\n",
      "Experience investigating computer network intrusions in an enterprise\n",
      "Experience hunting proactively for threats within an enterpriseSkill in general computer functions and PC software applications, Knowledge of principles and applications of mathematics and statistics, knowledge of law enforcement methods, procedures and criminal investigation.knowledge of Business communications techniques; correct telephone etiquette English grammar and usage, vocabulary, spelling, and punctuation; arithmetic computations involving algebra and statistics; and data processing techniques. They will also possess the ability to research, compile and analyze complex dataKnowledge of WFXs, CTCs, software enhancement discussions, and testing events,Experience working with large data sets; experience with distributed computing tools and other emerging technologies\n",
      "Experience with Big Data platforms and data warehousing\n",
      "Demonstrated experience with data visualization tools \n",
      "Data Modeling experience using ERD tools\n",
      "\n",
      "\n",
      "In-depth and demonstrated knowledge of one or more of the following disciplines: watchlisting, identity analysis, intelligence, law enforcement, United States military, and / or national security (counterterrorism, counterintelligence, transnational organized crime, and weapons of mass destruction)Experience with BI tools such as Domo or Tableau, Strong analytical, quantitative, problem solving, and organizational skillsExperience producing all-source cyber intelligence products, incorporating technical, open source, and classified information to identify and understand cyber threats from available data sources. \n",
      "Ability to adapt and develop the most advanced cyber security tools and analysis practices to the Foreign Intelligence assessment mission.\n",
      "\n",
      "Previous Military, State or Federal level 24/7 Operation Watch Experience (the more senior level the better), rmilitary staff operations experience, Ability to plan and organize tasks independently\n",
      "A/CS analysis support in IA/security controls analysis, conducting risk assessments, risk mitigation analysis, developing contingency plans. IA/CS requirements and vulnerability assessments.\n",
      "DIACAP C&A / RMF A&A requirements and processes.\n",
      "Risk and vulnerability assessment and risk mitigation analysis.\n",
      "IA/CS policy development, review and/or implementation.\n",
      "System analysis, design, integration, security test and evaluation.\n",
      "Ports, Protocols, and Services.Proven track record working as OSINT Analyst for 3 years in Law enforcement or intelligence organizations, technology skills, Certificates: applicable criminal analyst certificationExperience with i2's Analyst Notebook, CartoDB, Tableau, Babel Street, OpenIO, facial recognition software, Must be able to rate at Intermediate Mid or higher on the ACTFL scale for Arabic, US citizen and eligible for a TS/SCI clearanceThe candidate must have a working knowledge of Intelligence Community reporting methods, experience with various message handling systems, and Microsoft Office\n"
     ]
    }
   ],
   "source": [
    "skills =''\n",
    "for skill in df['required skills']:\n",
    "    skills = skill + skills\n",
    "print (skills)"
   ]
  },
  {
   "cell_type": "code",
   "execution_count": 127,
   "metadata": {},
   "outputs": [],
   "source": [
    "import xlwt        \n",
    "\n",
    "from collections import Counter        \n",
    "\n",
    "from nltk.corpus import stopwords\n",
    "\n",
    "stop = set(stopwords.words('english'))\n",
    "\n",
    "  \n",
    "\n",
    "book = xlwt.Workbook() # create a new excel file\n",
    "\n",
    "sheet_test = book.add_sheet('word_count') # add a new sheet\n",
    "\n",
    "i = 0\n",
    "\n",
    "sheet_test.write(i,0,'word') # write the header of the first column\n",
    "\n",
    "sheet_test.write(i,1,'count') # write the header of the second column\n",
    "\n",
    "sheet_test.write(i,2,'ratio') # write the header of the third column"
   ]
  },
  {
   "cell_type": "code",
   "execution_count": 128,
   "metadata": {},
   "outputs": [],
   "source": [
    "word_list = [i for i in skills.lower().split() if i not in stop]\n",
    "\n",
    "word_total = word_list.__len__()\n",
    "\n",
    "\n",
    "\n",
    "count_result =  Counter(word_list)\n",
    "\n",
    "for result in count_result.most_common(20):\n",
    "\n",
    "    i = i+1 \n",
    "\n",
    "    sheet_test.write(i,0,result[0])\n",
    "\n",
    "    sheet_test.write(i,1,result[1])\n",
    "\n",
    "    sheet_test.write(i,2,(result[1]/word_total))\n",
    "\n",
    "    \n",
    "\n",
    "book.save('skills.xls')# define the location of your excel file"
   ]
  },
  {
   "cell_type": "markdown",
   "metadata": {},
   "source": [
    "<img src=\"finalskills.png\">"
   ]
  },
  {
   "cell_type": "markdown",
   "metadata": {},
   "source": [
    "Some common skills require being able to use tools, being able to research and have background knowledge of the job as well as inoformation."
   ]
  },
  {
   "cell_type": "markdown",
   "metadata": {},
   "source": [
    "# Conclusion"
   ]
  },
  {
   "cell_type": "markdown",
   "metadata": {},
   "source": [
    "In conclusion, Reagan and Belinda believe this knowledge can aid future analysts to hone in their job searches and to be more effective and efficient throughout the search. This project has the ability to let an aspiring analyst know the common job titles within a search, which company seems to be hiring the most, the primary location of the jobs, the average minimal salaries and minimal years of experience,as well as common job duties nad skills required.There is hope that with the aid of this project, you too can simplfy your job searches in the future. Thank you."
   ]
  },
  {
   "cell_type": "code",
   "execution_count": null,
   "metadata": {},
   "outputs": [],
   "source": []
  }
 ],
 "metadata": {
  "kernelspec": {
   "display_name": "Python 3",
   "language": "python",
   "name": "python3"
  },
  "language_info": {
   "codemirror_mode": {
    "name": "ipython",
    "version": 3
   },
   "file_extension": ".py",
   "mimetype": "text/x-python",
   "name": "python",
   "nbconvert_exporter": "python",
   "pygments_lexer": "ipython3",
   "version": "3.6.5"
  }
 },
 "nbformat": 4,
 "nbformat_minor": 2
}
